{
 "cells": [
  {
   "cell_type": "code",
   "execution_count": 9,
   "id": "b776bef9-7656-43e7-8da2-48f5a8284111",
   "metadata": {},
   "outputs": [
    {
     "ename": "ModuleNotFoundError",
     "evalue": "No module named 'streamlit'",
     "output_type": "error",
     "traceback": [
      "\u001b[0;31m---------------------------------------------------------------------------\u001b[0m",
      "\u001b[0;31mModuleNotFoundError\u001b[0m                       Traceback (most recent call last)",
      "Cell \u001b[0;32mIn[9], line 3\u001b[0m\n\u001b[1;32m      1\u001b[0m \u001b[38;5;28;01mimport\u001b[39;00m \u001b[38;5;21;01mrequests\u001b[39;00m \n\u001b[1;32m      2\u001b[0m \u001b[38;5;28;01mimport\u001b[39;00m \u001b[38;5;21;01mjson\u001b[39;00m \n\u001b[0;32m----> 3\u001b[0m \u001b[38;5;28;01mimport\u001b[39;00m \u001b[38;5;21;01mstreamlit\u001b[39;00m \u001b[38;5;28;01mas\u001b[39;00m \u001b[38;5;21;01mst\u001b[39;00m\n\u001b[1;32m      4\u001b[0m \u001b[38;5;28;01mfrom\u001b[39;00m \u001b[38;5;21;01mstreamlit_lottie\u001b[39;00m \u001b[38;5;28;01mimport\u001b[39;00m st_lottie\n\u001b[1;32m      6\u001b[0m st\u001b[38;5;241m.\u001b[39mset_page_config(page_title\u001b[38;5;241m=\u001b[39m\u001b[38;5;124m\"\u001b[39m\u001b[38;5;124mMobility Classification App\u001b[39m\u001b[38;5;124m\"\u001b[39m, page_icon\u001b[38;5;241m=\u001b[39m\u001b[38;5;124m\"\u001b[39m\u001b[38;5;124m:oncoming_automobile:\u001b[39m\u001b[38;5;124m\"\u001b[39m, layout\u001b[38;5;241m=\u001b[39m\u001b[38;5;124m\"\u001b[39m\u001b[38;5;124mwide\u001b[39m\u001b[38;5;124m\"\u001b[39m, initial_sidebar_state\u001b[38;5;241m=\u001b[39m\u001b[38;5;124m\"\u001b[39m\u001b[38;5;124mcollapsed\u001b[39m\u001b[38;5;124m\"\u001b[39m)\n",
      "\u001b[0;31mModuleNotFoundError\u001b[0m: No module named 'streamlit'"
     ]
    }
   ],
   "source": [
    "import requests \n",
    "import json \n",
    "import streamlit as st\n",
    "from streamlit_lottie import st_lottie\n",
    "\n",
    "st.set_page_config(page_title=\"Mobility Classification App\", page_icon=\":oncoming_automobile:\", layout=\"wide\", initial_sidebar_state=\"collapsed\")\n",
    "\n",
    "# Weitere Codezeilen...\n",
    "\n",
    "st.header(\"Unsere Motivation\")\n",
    "\n",
    "\n",
    "st.header(\"Unsere Motivation\") \n",
    "st.write(\"Unser täglicher Wahnsinn beginnt bereits, wenn wir das Haus verlassen und uns fragen, wie wir am schnellsten von Punkt A nach Punkt B gelangen können - mit dem Auto, dem Fahrrad oder den öffentlichen Verkehrsmitteln?\")\n",
    "st.write(\"Jedes dieser Transportmittel hat seine Vor- und Nachteile. Wenn es einen Stau gibt, kann das Autofahren möglicherweise zeitaufwändig sein, während das Fahrradfahren bei anstrengenden Strecken möglicherweise nicht die beste Wahl ist und die Verbindungen mit den öffentlichen Verkehrsmitteln möglicherweise nicht optimal für das gewünschte Ziel sind.\")\n",
    "st.write(\"Genau hier setzt unsere Idee an: Wir haben eine innovative Fahrzeugerkennungs-App entwickelt, die automatisch erkennt, mit welchem Transportmittel du unterwegs bist und welche Strecken du häufig befährst\")\n",
    "st.write(\"Mit diesen Informationen kann dir unsere App die beste Route empfehlen und sogar sagen, welches Verkehrsmittel für dich heute die beste Wahl ist.\")\n",
    "st.write(\"Unsere App nutzt fortschrittliche Technologie, um deine bevorzugten Verkehrsmittel zu analysieren und deine üblichen Routen zu erkennen.\")\n",
    "st.write(\"Basierend auf Echtzeitverkehrsdaten und Informationen über Straßenzustände kann sie dir die schnellste und bequemste Route für deinen täglichen Weg zur Arbeit, zur Uni oder zu anderen Zielen anzeigen.\")\n",
    "st.wirte(\"gal, ob du Zeit sparen möchtest, dich umweltfreundlicher fortbewegen willst oder einfach nur den stressfreisten Weg finden möchtest, unsere Fahrzeugerkennungs-App steht dir zur Seite, um die beste Entscheidung zu treffen und deinen Alltag zu erleichtern.\")\n",
    "\n",
    "import requests\n",
    "import json\n",
    "\n",
    "def load_lottieurl(url: str):\n",
    "    response = requests.get(url)\n",
    "    response.raise_for_status()  # Überprüfen, ob die Anfrage erfolgreich war\n",
    "\n",
    "    return response.json()\n",
    "\n",
    "lottie_url = \"https://assets6.lottiefiles.com/packages/lf20_znsmxbjo.json\"\n",
    "lottie_content = load_lottieurl(lottie_url)\n",
    "\n",
    "def load_lottieurl(url: str): \n",
    "    response = requests.get(url)\n",
    "    response.raise_for_status() # überprüfen, ob die Anfrage erfolgreich war \n",
    "    \n",
    "    return response.json()\n",
    "\n",
    "lottie_url = \"https://assets1.lottiefiles.com/private_files/lf30_rixr9r00.json\"\n",
    "lottie_content = load_lottieurl(lottie_url)\n",
    "\n",
    "def load_lottieur(url: str): \n",
    "    response = requests.get(url)\n",
    "    response.raise_for_status() # überprüfen, ob die anfrage erfolgreich war \n",
    "    \n",
    "    return reponse.json()\n",
    "\n",
    "lottie_url = \" https://assets1.lottiefiles.com/packages/lf20_hwumabdt.json\"\n",
    "lottie_content = load_lottieur(lottie_url) \n",
    "\n",
    "\n",
    "\n",
    "\n"
   ]
  },
  {
   "cell_type": "code",
   "execution_count": null,
   "id": "d53e8e02-fe3c-439e-b420-066a173fb372",
   "metadata": {},
   "outputs": [],
   "source": []
  },
  {
   "cell_type": "code",
   "execution_count": null,
   "id": "51e7f9b2-075f-4c0f-ad09-a89e411a5aec",
   "metadata": {},
   "outputs": [],
   "source": []
  }
 ],
 "metadata": {
  "kernelspec": {
   "display_name": "Python 3 (ipykernel)",
   "language": "python",
   "name": "python3"
  },
  "language_info": {
   "codemirror_mode": {
    "name": "ipython",
    "version": 3
   },
   "file_extension": ".py",
   "mimetype": "text/x-python",
   "name": "python",
   "nbconvert_exporter": "python",
   "pygments_lexer": "ipython3",
   "version": "3.10.9"
  }
 },
 "nbformat": 4,
 "nbformat_minor": 5
}
